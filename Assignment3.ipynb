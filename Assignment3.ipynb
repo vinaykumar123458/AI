{
  "nbformat": 4,
  "nbformat_minor": 0,
  "metadata": {
    "colab": {
      "name": "Assignment3.ipynb",
      "provenance": [],
      "authorship_tag": "ABX9TyMq1Sh0KC9RfU8g83gQDeRn",
      "include_colab_link": true
    },
    "kernelspec": {
      "name": "python3",
      "display_name": "Python 3"
    },
    "language_info": {
      "name": "python"
    }
  },
  "cells": [
    {
      "cell_type": "markdown",
      "metadata": {
        "id": "view-in-github",
        "colab_type": "text"
      },
      "source": [
        "<a href=\"https://colab.research.google.com/github/vinaykumar123458/AI/blob/main/Assignment3.ipynb\" target=\"_parent\"><img src=\"https://colab.research.google.com/assets/colab-badge.svg\" alt=\"Open In Colab\"/></a>"
      ]
    },
    {
      "cell_type": "code",
      "metadata": {
        "colab": {
          "base_uri": "https://localhost:8080/"
        },
        "id": "_coRzLcwdH7B",
        "outputId": "0dc4661f-8aaf-4630-f627-2806bda33fa9"
      },
      "source": [
        "import numpy as np\n",
        "import math\n",
        "x=np.random.uniform(-100,100)\n",
        "y=np.random.uniform(-100,100)\n",
        "eta=0.01\n",
        "iter_max=100\n",
        "iter=1\n",
        "while iter<iter_max:\n",
        "  grad_x=6*x\n",
        "  grad_y = -5*(math.exp(-y))\n",
        "  delx = -eta * grad_x\n",
        "  dely = -eta * grad_y\n",
        "  x=x+delx\n",
        "  y=y+dely\n",
        "  iter=iter+1\n",
        "obj =  3*(x*2) + 5*(math.exp(-y)) + 10\n",
        "print(\"objective function has  global minimum value at \",obj,\" where x = \", round(x), \" and y = \", round(y))"
      ],
      "execution_count": 2,
      "outputs": [
        {
          "output_type": "stream",
          "name": "stdout",
          "text": [
            "objective function has  global minimum value at  11.256578804797796  where x =  0  and y =  96696918659104364872040519677511980810240\n"
          ]
        }
      ]
    }
  ]
}