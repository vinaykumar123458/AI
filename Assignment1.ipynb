{
  "nbformat": 4,
  "nbformat_minor": 0,
  "metadata": {
    "colab": {
      "name": "Assignment1.ipynb",
      "provenance": [],
      "authorship_tag": "ABX9TyOBw9O4PwEgbCsbH3y2NcZ3",
      "include_colab_link": true
    },
    "kernelspec": {
      "name": "python3",
      "display_name": "Python 3"
    },
    "language_info": {
      "name": "python"
    }
  },
  "cells": [
    {
      "cell_type": "markdown",
      "metadata": {
        "id": "view-in-github",
        "colab_type": "text"
      },
      "source": [
        "<a href=\"https://colab.research.google.com/github/vinaykumar123458/AI/blob/main/Assignment1.ipynb\" target=\"_parent\"><img src=\"https://colab.research.google.com/assets/colab-badge.svg\" alt=\"Open In Colab\"/></a>"
      ]
    },
    {
      "cell_type": "code",
      "metadata": {
        "colab": {
          "base_uri": "https://localhost:8080/"
        },
        "id": "4mWMLscYM2OA",
        "outputId": "c4da42ae-d08a-4e55-d860-293d8620cc68"
      },
      "source": [
        "from scipy.optimize import linprog\n",
        "obj=[-50,-120]\n",
        "A=[[7000,2000],[10,30]]\n",
        "B=[700000,1200]\n",
        "boundary=[(0,110),(0,110)] #limits for wheat and barley for 110 hectares\n",
        "sol=linprog(c=obj, A_ub=A, b_ub=B, A_eq=None, b_eq=None, bounds=boundary, method=\"Simplex\")\n",
        "print('no. of hectares of wheat = ',round(sol.x[0]))\n",
        "print('no. of hectares of barley = ',round(sol.x[1]))\n",
        "print('The maximum profit that farmer can earn is = ',round(sol.x[0]*50+sol.x[1]*120))"
      ],
      "execution_count": 10,
      "outputs": [
        {
          "output_type": "stream",
          "text": [
            "no. of hectares of wheat =  98\n",
            "no. of hectares of barley =  7\n",
            "The maximum profit that farmer can earn is =  5779\n"
          ],
          "name": "stdout"
        }
      ]
    }
  ]
}